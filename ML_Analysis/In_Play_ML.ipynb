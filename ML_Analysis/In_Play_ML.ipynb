{
 "cells": [
  {
   "cell_type": "code",
   "execution_count": 3,
   "id": "583646fc-c621-4ee3-b02a-b66b8953e046",
   "metadata": {},
   "outputs": [
    {
     "data": {
      "text/plain": [
       "(     description     events  release_speed  launch_speed     pfx_z   plate_x  \\\n",
       " 0           foul  field_out       1.280740     -1.538068 -0.323030 -2.718627   \n",
       " 1  hit_into_play     double       0.960678      0.418502  1.606665 -0.370886   \n",
       " 2           foul  field_out       0.219482     -0.743446  0.552755 -0.118052   \n",
       " 3           foul       walk      -0.488023     -0.863389  0.062909  0.784925   \n",
       " 4           foul  field_out       0.674307      0.763338  1.502758  0.170901   \n",
       " \n",
       "     plate_z      zone       vx0       vy0  ...  pitch_type_FO  pitch_type_FS  \\\n",
       " 0  0.465471  1.067556  0.314089 -1.284361  ...          False          False   \n",
       " 1  0.386393 -0.479727 -2.083002 -0.927523  ...          False          False   \n",
       " 2  0.671073 -0.479727 -1.678513 -0.212267  ...          False          False   \n",
       " 3  1.050646 -0.995488  0.161912  0.480596  ...          False          False   \n",
       " 4 -0.103888 -0.479727  0.189637 -0.662092  ...          False          False   \n",
       " \n",
       "    pitch_type_KC  pitch_type_KN  pitch_type_SC  pitch_type_SI  pitch_type_SL  \\\n",
       " 0          False          False          False           True          False   \n",
       " 1          False          False          False           True          False   \n",
       " 2          False          False          False           True          False   \n",
       " 3          False          False          False          False           True   \n",
       " 4          False          False          False          False          False   \n",
       " \n",
       "    pitch_type_ST  pitch_type_SV  pitch_type_nan  \n",
       " 0          False          False           False  \n",
       " 1          False          False           False  \n",
       " 2          False          False           False  \n",
       " 3          False          False           False  \n",
       " 4          False          False           False  \n",
       " \n",
       " [5 rows x 41 columns],\n",
       " Index(['description', 'events', 'release_speed', 'launch_speed', 'pfx_z',\n",
       "        'plate_x', 'plate_z', 'zone', 'vx0', 'vy0', 'vz0', 'ax', 'ay', 'az',\n",
       "        'sz_top', 'sz_bot', 'release_spin_rate', 'release_extension',\n",
       "        'release_pos_y', 'batter', 'pitcher', 'at_bat_number', 'game_date',\n",
       "        'launch_speed_missing', 'pitch_type_CH', 'pitch_type_CS',\n",
       "        'pitch_type_CU', 'pitch_type_EP', 'pitch_type_FA', 'pitch_type_FC',\n",
       "        'pitch_type_FF', 'pitch_type_FO', 'pitch_type_FS', 'pitch_type_KC',\n",
       "        'pitch_type_KN', 'pitch_type_SC', 'pitch_type_SI', 'pitch_type_SL',\n",
       "        'pitch_type_ST', 'pitch_type_SV', 'pitch_type_nan'],\n",
       "       dtype='object'),\n",
       " description              0\n",
       " events                  19\n",
       " release_speed            0\n",
       " launch_speed             0\n",
       " pfx_z                    0\n",
       " plate_x                  0\n",
       " plate_z                  0\n",
       " zone                     0\n",
       " vx0                      0\n",
       " vy0                      0\n",
       " vz0                      0\n",
       " ax                       0\n",
       " ay                       0\n",
       " az                       0\n",
       " sz_top                   0\n",
       " sz_bot                   0\n",
       " release_spin_rate        0\n",
       " release_extension        0\n",
       " release_pos_y            0\n",
       " batter                   0\n",
       " pitcher                  0\n",
       " at_bat_number            0\n",
       " game_date                0\n",
       " launch_speed_missing     0\n",
       " pitch_type_CH            0\n",
       " pitch_type_CS            0\n",
       " pitch_type_CU            0\n",
       " pitch_type_EP            0\n",
       " pitch_type_FA            0\n",
       " pitch_type_FC            0\n",
       " pitch_type_FF            0\n",
       " pitch_type_FO            0\n",
       " pitch_type_FS            0\n",
       " pitch_type_KC            0\n",
       " pitch_type_KN            0\n",
       " pitch_type_SC            0\n",
       " pitch_type_SI            0\n",
       " pitch_type_SL            0\n",
       " pitch_type_ST            0\n",
       " pitch_type_SV            0\n",
       " pitch_type_nan           0\n",
       " dtype: int64)"
      ]
     },
     "execution_count": 3,
     "metadata": {},
     "output_type": "execute_result"
    }
   ],
   "source": [
    "import pandas as pd\n",
    "\n",
    "# Load the cleaned dataset\n",
    "df_ml = pd.read_csv('../CSVs/MLB_First_Pitch_Swings_ML_Cleaned.csv')\n",
    "\n",
    "# Display dataset structure\n",
    "df_ml.head(), df_ml.columns, df_ml.isna().sum()\n"
   ]
  },
  {
   "cell_type": "code",
   "execution_count": null,
   "id": "8ee6acfa-048c-4a6b-b8d1-50a918abc47e",
   "metadata": {},
   "outputs": [],
   "source": []
  },
  {
   "cell_type": "code",
   "execution_count": null,
   "id": "aeb895ba-6550-454c-8013-82e388451980",
   "metadata": {},
   "outputs": [],
   "source": []
  }
 ],
 "metadata": {
  "kernelspec": {
   "display_name": "Python 3 (ipykernel)",
   "language": "python",
   "name": "python3"
  },
  "language_info": {
   "codemirror_mode": {
    "name": "ipython",
    "version": 3
   },
   "file_extension": ".py",
   "mimetype": "text/x-python",
   "name": "python",
   "nbconvert_exporter": "python",
   "pygments_lexer": "ipython3",
   "version": "3.12.4"
  }
 },
 "nbformat": 4,
 "nbformat_minor": 5
}
