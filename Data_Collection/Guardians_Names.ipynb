{
 "cells": [
  {
   "cell_type": "code",
   "execution_count": 1,
   "id": "69445d18-d1ba-4037-b7db-6cfbf0a0ea3e",
   "metadata": {},
   "outputs": [],
   "source": [
    "import pandas as pd\n",
    "df_guardians = pd.read_csv('../CSVs/Guardians_Full_Dataset.csv')"
   ]
  },
  {
   "cell_type": "code",
   "execution_count": 3,
   "id": "fed82d42-11e7-41a9-a7b7-301139006548",
   "metadata": {},
   "outputs": [],
   "source": [
    "# Define the hitter ID-to-name mapping\n",
    "hitter_mapping = {\n",
    "    680757: \"Steven Kwan\",\n",
    "    665926: \"Andres Gimenez\",\n",
    "    608070: \"Jose Ramirez\",\n",
    "    647304: \"Josh Naylor\",\n",
    "    657041: \"Lane Thomas\",\n",
    "    677587: \"Bryan Rocchio\",\n",
    "    666310: \"Bo Naylor\",\n",
    "    681807: \"David Fry\",\n",
    "    686823: \"Will Brennan\",\n",
    "    671289: \"Tyler Freeman\",\n",
    "    682177: \"Daniel Schneemann\",\n",
    "    678877: \"Jhonkensy Noel\",\n",
    "    672356: \"Gabriel Arias\",\n",
    "    682657: \"Angel Martinez\",\n",
    "    700932: \"Kyle Manzardo\",\n",
    "    595978: \"Austin Hedges\"\n",
    "}\n"
   ]
  },
  {
   "cell_type": "code",
   "execution_count": 5,
   "id": "a62c60e5-267c-4161-9bb2-0cba79c75a31",
   "metadata": {},
   "outputs": [],
   "source": [
    "# Replace hitter IDs with names\n",
    "df_guardians['batter'] = df_guardians['batter'].map(hitter_mapping)\n",
    "\n",
    "# Drop rows where the batter is not in the mapping (i.e., players with minimal data)\n",
    "df_guardians = df_guardians.dropna(subset=['batter'])\n"
   ]
  },
  {
   "cell_type": "code",
   "execution_count": 7,
   "id": "9ccc3957-7410-49bf-96d6-fd337aa175cb",
   "metadata": {},
   "outputs": [
    {
     "data": {
      "text/plain": [
       "array(['Bryan Rocchio', 'Jhonkensy Noel', 'Bo Naylor', 'Andres Gimenez',\n",
       "       'Lane Thomas', 'Josh Naylor', 'Jose Ramirez', 'Kyle Manzardo',\n",
       "       'Will Brennan', 'Angel Martinez', 'David Fry', 'Steven Kwan',\n",
       "       'Daniel Schneemann', 'Austin Hedges', 'Tyler Freeman',\n",
       "       'Gabriel Arias'], dtype=object)"
      ]
     },
     "execution_count": 7,
     "metadata": {},
     "output_type": "execute_result"
    }
   ],
   "source": [
    "# Display unique values in the batter column\n",
    "df_guardians['batter'].unique()\n"
   ]
  },
  {
   "cell_type": "code",
   "execution_count": 9,
   "id": "8ce08a9d-2929-4991-8e92-f15e4ef705c9",
   "metadata": {},
   "outputs": [],
   "source": [
    "# Save the cleaned Guardians dataset with hitter names\n",
    "df_guardians.to_csv(\"Guardians_With_100_ABs.csv\", index=False)\n"
   ]
  },
  {
   "cell_type": "code",
   "execution_count": 9,
   "id": "e420904f-022e-4622-8e37-220d641701bf",
   "metadata": {},
   "outputs": [
    {
     "name": "stdout",
     "output_type": "stream",
     "text": [
      "Total At-Bats Identified: 5936\n",
      "First-Pitch Swings Count: 1818\n",
      "Total Final At-Bat Results: 5932\n",
      "Total Merged Rows (should match first-pitch swings count): 1818\n",
      "Final cleaned dataset saved as 'Guardians_First_Pitch_Swings_Cleaned.csv'\n"
     ]
    }
   ],
   "source": [
    "# Step 1: Identify the first pitch of each at-bat\n",
    "df_first_pitch = df_guardians[df_guardians['pitch_number'] == 1]  # Explicitly take first pitch\n",
    "\n",
    "# Debugging: Check total at-bats (should be ~5,947)\n",
    "print(f\"Total At-Bats Identified: {len(df_first_pitch)}\")  \n",
    "\n",
    "# Step 2: Filter for swings on that first pitch\n",
    "swing_terms = ['swinging_strike', 'foul', 'hit_into_play']\n",
    "df_first_pitch_swing = df_first_pitch[df_first_pitch['description'].str.contains('|'.join(swing_terms), na=False)]\n",
    "\n",
    "# Debugging: Check first-pitch swings count\n",
    "print(f\"First-Pitch Swings Count: {len(df_first_pitch_swing)}\")\n",
    "\n",
    "# Step 3: Rename 'events' in df_first_pitch_swing to avoid conflicts\n",
    "df_first_pitch_swing = df_first_pitch_swing.rename(columns={'events': 'first_pitch_events'})\n",
    "\n",
    "# Step 4: Extract final at-bat outcomes (last pitch of each at-bat)\n",
    "df_final_results = df_guardians.sort_values(by=['game_pk', 'at_bat_number'])\n",
    "\n",
    "# Ensure 'events' column is not missing before proceeding\n",
    "if 'events' not in df_final_results.columns:\n",
    "    raise KeyError(\"Column 'events' is missing from df_final_results!\")\n",
    "\n",
    "# Drop duplicates to get only the last pitch of each at-bat\n",
    "df_final_results = df_final_results.dropna(subset=['events'])  # Ensure we don't lose important rows\n",
    "df_final_results = df_final_results.drop_duplicates(subset=['game_pk', 'at_bat_number'], keep='last')\n",
    "\n",
    "# Keep only necessary columns\n",
    "df_final_results = df_final_results[['game_pk', 'at_bat_number', 'events']]\n",
    "\n",
    "# Debugging: Confirm final at-bat results are correct\n",
    "print(f\"Total Final At-Bat Results: {len(df_final_results)}\")\n",
    "\n",
    "# Step 5: Merge ONLY first-pitch swings with final at-bat results\n",
    "df_merged = df_first_pitch_swing.merge(df_final_results, on=['game_pk', 'at_bat_number'], how='left')\n",
    "\n",
    "# Debugging: Check merged dataset row count\n",
    "print(f\"Total Merged Rows (should match first-pitch swings count): {len(df_merged)}\")\n",
    "\n",
    "# Step 6: Ensure correct 'events' column (final at-bat result)\n",
    "if 'events_y' in df_merged.columns:\n",
    "    df_merged = df_merged.rename(columns={'events_y': 'events'}).drop(columns=['events_x'], errors='ignore')\n",
    "\n",
    "# Step 7: Keep only relevant columns\n",
    "columns_to_keep = ['game_pk', 'at_bat_number', 'batter', 'description', 'des', 'first_pitch_events', 'events']\n",
    "df_cleaned = df_merged[columns_to_keep]\n",
    "\n",
    "# Step 8: Save the final cleaned dataset\n",
    "df_cleaned.to_csv(\"Guardians_First_Pitch_Swings_Cleaned.csv\", index=False)\n",
    "\n",
    "print(\"Final cleaned dataset saved as 'Guardians_First_Pitch_Swings_Cleaned.csv'\")\n"
   ]
  }
 ],
 "metadata": {
  "kernelspec": {
   "display_name": "Python 3 (ipykernel)",
   "language": "python",
   "name": "python3"
  },
  "language_info": {
   "codemirror_mode": {
    "name": "ipython",
    "version": 3
   },
   "file_extension": ".py",
   "mimetype": "text/x-python",
   "name": "python",
   "nbconvert_exporter": "python",
   "pygments_lexer": "ipython3",
   "version": "3.12.4"
  }
 },
 "nbformat": 4,
 "nbformat_minor": 5
}
